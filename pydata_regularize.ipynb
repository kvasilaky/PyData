{
 "cells": [
  {
   "cell_type": "markdown",
   "metadata": {},
   "source": [
    "# PYDATA SLO Meetup November 14, 2018\n",
    "## Intro to Regularization"
   ]
  },
  {
   "cell_type": "code",
   "execution_count": 166,
   "metadata": {},
   "outputs": [],
   "source": [
    "import numpy as np\n",
    "import pandas as pd\n",
    "import statsmodels.formula.api as smf\n",
    "from scipy.linalg import hilbert\n",
    "from sklearn.metrics import mean_squared_error\n",
    "from sklearn.linear_model import LinearRegression\n",
    "from sklearn.linear_model import Ridge\n",
    "from sklearn.linear_model import Lasso\n",
    "from sklearn.linear_model import ElasticNet"
   ]
  },
  {
   "cell_type": "code",
   "execution_count": 154,
   "metadata": {},
   "outputs": [
    {
     "data": {
      "text/plain": [
       "array([[1.        , 0.5       , 0.33333333, ..., 0.01020408, 0.01010101,\n",
       "        0.01      ],\n",
       "       [0.5       , 0.33333333, 0.25      , ..., 0.01010101, 0.01      ,\n",
       "        0.00990099],\n",
       "       [0.33333333, 0.25      , 0.2       , ..., 0.01      , 0.00990099,\n",
       "        0.00980392],\n",
       "       ...,\n",
       "       [0.01020408, 0.01010101, 0.01      , ..., 0.00512821, 0.00510204,\n",
       "        0.00507614],\n",
       "       [0.01010101, 0.01      , 0.00990099, ..., 0.00510204, 0.00507614,\n",
       "        0.00505051],\n",
       "       [0.01      , 0.00990099, 0.00980392, ..., 0.00507614, 0.00505051,\n",
       "        0.00502513]])"
      ]
     },
     "execution_count": 154,
     "metadata": {},
     "output_type": "execute_result"
    }
   ],
   "source": [
    "#Set up the problem\n",
    "#X = np.matrix('.16, .10; .17 .11; 2.02 1.29')\n",
    "#X = np.matrix('1 3 11 0  -11 -15;18 55 209 15 -198 -277; -23 -33 144 532 259 82;9 55 405 437 -100 -285;3 -4 -111 -180 39 219;-13 -9  202 346  401  253')\n",
    "X = hilbert(100)\n",
    "X"
   ]
  },
  {
   "cell_type": "code",
   "execution_count": 155,
   "metadata": {},
   "outputs": [
    {
     "data": {
      "text/plain": [
       "2.525412746419138e+19"
      ]
     },
     "execution_count": 155,
     "metadata": {},
     "output_type": "execute_result"
    }
   ],
   "source": [
    "#S is ill-conditioned, condition = 1 is not singular\n",
    "np.linalg.cond(X)\n"
   ]
  },
  {
   "cell_type": "code",
   "execution_count": 156,
   "metadata": {},
   "outputs": [
    {
     "data": {
      "text/plain": [
       "matrix([[1.],\n",
       "        [1.],\n",
       "        [1.],\n",
       "        [1.]])"
      ]
     },
     "execution_count": 156,
     "metadata": {},
     "output_type": "execute_result"
    }
   ],
   "source": [
    "#Know the true feature weights or covariate estimates\n",
    "beta = np.matrix(np.ones(X.shape[1])).transpose()\n",
    "beta[0:4]"
   ]
  },
  {
   "cell_type": "code",
   "execution_count": 157,
   "metadata": {},
   "outputs": [],
   "source": [
    "#True y\n",
    "y = np.matrix(X)*np.matrix(beta)"
   ]
  },
  {
   "cell_type": "code",
   "execution_count": 158,
   "metadata": {},
   "outputs": [
    {
     "data": {
      "text/plain": [
       "matrix([[5.30703933],\n",
       "        [4.1225196 ],\n",
       "        [3.62340987],\n",
       "        [3.41923332]])"
      ]
     },
     "execution_count": 158,
     "metadata": {},
     "output_type": "execute_result"
    }
   ],
   "source": [
    "#Now add noise to y of size ro\n",
    "#Dimension of X\n",
    "r = np.matrix(X.shape)[0, 0]\n",
    "e = np.random.normal(0, .1, r) #compute vector of normal variants mean=0,std=0.1\n",
    "\n",
    "#Note that nb is 3 by 1, so we need to flip it\n",
    "ye = y + np.matrix(e).transpose() #add noise\n",
    "ye[0:4]"
   ]
  },
  {
   "cell_type": "markdown",
   "metadata": {},
   "source": [
    "### Inference: Try to recover beta"
   ]
  },
  {
   "cell_type": "markdown",
   "metadata": {},
   "source": [
    "##### OlS, Naive solution "
   ]
  },
  {
   "cell_type": "code",
   "execution_count": 202,
   "metadata": {},
   "outputs": [
    {
     "name": "stdout",
     "output_type": "stream",
     "text": [
      "Root Mean Squared Error: 1292884866842.632\n"
     ]
    }
   ],
   "source": [
    "#using pseudo inverse\n",
    "beta_ols = np.linalg.pinv(X)*ye\n",
    "rmse = np.sqrt(mean_squared_error(beta_ols, beta))\n",
    "print(\"Root Mean Squared Error: {}\".format(rmse))"
   ]
  },
  {
   "cell_type": "code",
   "execution_count": 203,
   "metadata": {},
   "outputs": [
    {
     "name": "stdout",
     "output_type": "stream",
     "text": [
      "Root Mean Squared Error: 4934567707226.843\n"
     ]
    }
   ],
   "source": [
    "#using sklearn\n",
    "beta_ols = LinearRegression().fit(X, ye).coef_\n",
    "rmse = np.sqrt(mean_squared_error(beta_ols.transpose(), beta))\n",
    "print(\"Root Mean Squared Error: {}\".format(rmse))"
   ]
  },
  {
   "cell_type": "markdown",
   "metadata": {},
   "source": [
    "##### With Regularization"
   ]
  },
  {
   "cell_type": "code",
   "execution_count": 207,
   "metadata": {},
   "outputs": [
    {
     "name": "stdout",
     "output_type": "stream",
     "text": [
      "Root Mean Squared Error: 0.6581925519165268\n"
     ]
    }
   ],
   "source": [
    "#using L2 norm, lamba is 0.1\n",
    "beta_ridge = Ridge(alpha = 0.1).fit(X, ye).coef_\n",
    "rmse = np.sqrt(mean_squared_error(beta_ridge.transpose(), beta))\n",
    "print(\"Root Mean Squared Error: {}\".format(rmse))"
   ]
  },
  {
   "cell_type": "code",
   "execution_count": 208,
   "metadata": {},
   "outputs": [
    {
     "name": "stdout",
     "output_type": "stream",
     "text": [
      "Root Mean Squared Error: 1.0\n"
     ]
    }
   ],
   "source": [
    "#using L1 norm, lamba is 0.1\n",
    "beta_lasso = Lasso(alpha = 0.1).fit(X, ye).coef_\n",
    "rmse = np.sqrt(mean_squared_error(beta_lasso.transpose(), beta))\n",
    "print(\"Root Mean Squared Error: {}\".format(rmse))"
   ]
  },
  {
   "cell_type": "code",
   "execution_count": 210,
   "metadata": {},
   "outputs": [
    {
     "name": "stdout",
     "output_type": "stream",
     "text": [
      "Root Mean Squared Error: 0.9964147808523344\n"
     ]
    }
   ],
   "source": [
    "#Elastic Net uses combination of the two\n",
    "#For l1_ratio = 0 the penalty is an L2 penalty. \n",
    "#For l1_ratio = 1 it is an L1 penalty. \n",
    "#For 0 < l1_ratio < 1, the penalty is a combination of L1 and L2.\n",
    "\n",
    "beta_el = ElasticNet(alpha = 0.1, l1_ratio=0.5).fit(X, ye).coef_\n",
    "rmse = np.sqrt(mean_squared_error(beta_el.transpose(), beta))\n",
    "print(\"Root Mean Squared Error: {}\".format(rmse))"
   ]
  },
  {
   "cell_type": "code",
   "execution_count": null,
   "metadata": {},
   "outputs": [],
   "source": []
  }
 ],
 "metadata": {
  "kernelspec": {
   "display_name": "Python 3",
   "language": "python",
   "name": "python3"
  },
  "language_info": {
   "codemirror_mode": {
    "name": "ipython",
    "version": 3
   },
   "file_extension": ".py",
   "mimetype": "text/x-python",
   "name": "python",
   "nbconvert_exporter": "python",
   "pygments_lexer": "ipython3",
   "version": "3.5.1"
  }
 },
 "nbformat": 4,
 "nbformat_minor": 2
}
